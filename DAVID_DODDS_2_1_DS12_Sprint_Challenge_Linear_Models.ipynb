{
 "cells": [
  {
   "cell_type": "markdown",
   "metadata": {
    "colab_type": "text",
    "id": "VZf2akBaMjq8"
   },
   "source": [
    "_Lambda School Data Science, Unit 2_\n",
    " \n",
    "# Linear Models Sprint Challenge\n",
    "\n",
    "To demonstrate mastery on your Sprint Challenge, do all the required, numbered instructions in this notebook.\n",
    "\n",
    "To earn a score of \"3\", also do all the stretch goals.\n",
    "\n",
    "You are permitted and encouraged to do as much data exploration as you want."
   ]
  },
  {
   "cell_type": "markdown",
   "metadata": {
    "colab_type": "text",
    "id": "20OITf58NLQh"
   },
   "source": [
    "### Part 1, Classification\n",
    "- 1.1. Do train/test split. Arrange data into X features matrix and y target vector\n",
    "- 1.2. Use scikit-learn to fit a logistic regression model\n",
    "- 1.3. Report classification metric: accuracy\n",
    "\n",
    "### Part 2, Regression\n",
    "- 2.1. Begin with baselines for regression\n",
    "- 2.2. Do train/validate/test split\n",
    "- 2.3. Arrange data into X features matrix and y target vector\n",
    "- 2.4. Do one-hot encoding\n",
    "- 2.5. Use scikit-learn to fit a linear regression or ridge regression model\n",
    "- 2.6. Report validation MAE and $R^2$\n",
    "\n",
    "### Stretch Goals, Regression\n",
    "- Make at least 2 visualizations to explore relationships between features and target. You may use any visualization library\n",
    "- Try at least 3 feature combinations. You may select features manually, or automatically\n",
    "- Report validation MAE and $R^2$ for each feature combination you try\n",
    "- Report test MAE and $R^2$ for your final model\n",
    "- Print or plot the coefficients for the features in your model"
   ]
  },
  {
   "cell_type": "code",
   "execution_count": 96,
   "metadata": {
    "colab": {},
    "colab_type": "code",
    "id": "BxoFSeX5OX5k"
   },
   "outputs": [],
   "source": [
    "# If you're in Colab...\n",
    "import sys\n",
    "if 'google.colab' in sys.modules:\n",
    "    !pip install category_encoders==2.*\n",
    "    !pip install pandas-profiling==2.*\n",
    "    !pip install plotly==4.*"
   ]
  },
  {
   "cell_type": "markdown",
   "metadata": {
    "colab_type": "text",
    "id": "Q7u1KtsnOi78"
   },
   "source": [
    "# Part 1, Classification: Predict Blood Donations 🚑\n",
    "Our dataset is from a mobile blood donation vehicle in Taiwan. The Blood Transfusion Service Center drives to different universities and collects blood as part of a blood drive.\n",
    "\n",
    "The goal is to predict whether the donor made a donation in March 2007, using information about each donor's history.\n",
    "\n",
    "Good data-driven systems for tracking and predicting donations and supply needs can improve the entire supply chain, making sure that more patients get the blood transfusions they need."
   ]
  },
  {
   "cell_type": "code",
   "execution_count": 97,
   "metadata": {
    "colab": {},
    "colab_type": "code",
    "id": "gJzpgv-fO4rh"
   },
   "outputs": [],
   "source": [
    "import pandas as pd\n",
    "\n",
    "donors = pd.read_csv('https://archive.ics.uci.edu/ml/machine-learning-databases/blood-transfusion/transfusion.data')\n",
    "assert donors.shape == (748,5)\n",
    "\n",
    "donors = donors.rename(columns={\n",
    "    'Recency (months)': 'months_since_last_donation', \n",
    "    'Frequency (times)': 'number_of_donations', \n",
    "    'Monetary (c.c. blood)': 'total_volume_donated', \n",
    "    'Time (months)': 'months_since_first_donation', \n",
    "    'whether he/she donated blood in March 2007': 'made_donation_in_march_2007'\n",
    "})"
   ]
  },
  {
   "cell_type": "markdown",
   "metadata": {
    "colab_type": "text",
    "id": "oU4oE0LJMG7X"
   },
   "source": [
    "Notice that the majority class (did not donate blood in March 2007) occurs about 3/4 of the time. \n",
    "\n",
    "This is the accuracy score for the \"majority class baseline\" (the accuracy score we'd get by just guessing the majority class every time)."
   ]
  },
  {
   "cell_type": "code",
   "execution_count": 98,
   "metadata": {
    "colab": {},
    "colab_type": "code",
    "id": "TgRp5slvLzJs"
   },
   "outputs": [
    {
     "data": {
      "text/plain": [
       "0    0.762032\n",
       "1    0.237968\n",
       "Name: made_donation_in_march_2007, dtype: float64"
      ]
     },
     "execution_count": 98,
     "metadata": {},
     "output_type": "execute_result"
    }
   ],
   "source": [
    "donors['made_donation_in_march_2007'].value_counts(normalize=True)"
   ]
  },
  {
   "cell_type": "markdown",
   "metadata": {
    "colab_type": "text",
    "id": "P66Fpcq1PYZl"
   },
   "source": [
    "## 1.1. Do train/test split. Arrange data into X features matrix and y target vector\n",
    "\n",
    "Do these steps in either order.\n",
    "\n",
    "Use scikit-learn's train/test split function to split randomly. (You can include 75% of the data in the train set, and hold out 25% for the test set, which is the default.)"
   ]
  },
  {
   "cell_type": "code",
   "execution_count": 99,
   "metadata": {
    "colab": {},
    "colab_type": "code",
    "id": "InhicZeZPX8L"
   },
   "outputs": [],
   "source": [
    "from sklearn.model_selection import train_test_split"
   ]
  },
  {
   "cell_type": "code",
   "execution_count": 100,
   "metadata": {},
   "outputs": [
    {
     "data": {
      "text/plain": [
       "((561, 5), (187, 5))"
      ]
     },
     "execution_count": 100,
     "metadata": {},
     "output_type": "execute_result"
    }
   ],
   "source": [
    "train , test = train_test_split(donors, random_state=42, stratify=donors['made_donation_in_march_2007'])\n",
    "train.shape, test.shape"
   ]
  },
  {
   "cell_type": "code",
   "execution_count": 101,
   "metadata": {},
   "outputs": [
    {
     "data": {
      "text/plain": [
       "0    0.761141\n",
       "1    0.238859\n",
       "Name: made_donation_in_march_2007, dtype: float64"
      ]
     },
     "execution_count": 101,
     "metadata": {},
     "output_type": "execute_result"
    }
   ],
   "source": [
    "train['made_donation_in_march_2007'].value_counts(normalize=True)"
   ]
  },
  {
   "cell_type": "code",
   "execution_count": 102,
   "metadata": {},
   "outputs": [
    {
     "data": {
      "text/plain": [
       "0    0.764706\n",
       "1    0.235294\n",
       "Name: made_donation_in_march_2007, dtype: float64"
      ]
     },
     "execution_count": 102,
     "metadata": {},
     "output_type": "execute_result"
    }
   ],
   "source": [
    "test['made_donation_in_march_2007'].value_counts(normalize=True)"
   ]
  },
  {
   "cell_type": "markdown",
   "metadata": {
    "colab_type": "text",
    "id": "ln9fqAghRmQT"
   },
   "source": [
    "## 1.2. Use scikit-learn to fit a logistic regression model\n",
    "\n",
    "You may use any number of features"
   ]
  },
  {
   "cell_type": "code",
   "execution_count": 103,
   "metadata": {
    "colab": {},
    "colab_type": "code",
    "id": "a2jf_deRRl64"
   },
   "outputs": [
    {
     "data": {
      "text/html": [
       "<div>\n",
       "<style scoped>\n",
       "    .dataframe tbody tr th:only-of-type {\n",
       "        vertical-align: middle;\n",
       "    }\n",
       "\n",
       "    .dataframe tbody tr th {\n",
       "        vertical-align: top;\n",
       "    }\n",
       "\n",
       "    .dataframe thead th {\n",
       "        text-align: right;\n",
       "    }\n",
       "</style>\n",
       "<table border=\"1\" class=\"dataframe\">\n",
       "  <thead>\n",
       "    <tr style=\"text-align: right;\">\n",
       "      <th></th>\n",
       "      <th>months_since_last_donation</th>\n",
       "      <th>number_of_donations</th>\n",
       "      <th>total_volume_donated</th>\n",
       "      <th>months_since_first_donation</th>\n",
       "      <th>made_donation_in_march_2007</th>\n",
       "    </tr>\n",
       "  </thead>\n",
       "  <tbody>\n",
       "    <tr>\n",
       "      <th>0</th>\n",
       "      <td>2</td>\n",
       "      <td>50</td>\n",
       "      <td>12500</td>\n",
       "      <td>98</td>\n",
       "      <td>1</td>\n",
       "    </tr>\n",
       "    <tr>\n",
       "      <th>1</th>\n",
       "      <td>0</td>\n",
       "      <td>13</td>\n",
       "      <td>3250</td>\n",
       "      <td>28</td>\n",
       "      <td>1</td>\n",
       "    </tr>\n",
       "    <tr>\n",
       "      <th>2</th>\n",
       "      <td>1</td>\n",
       "      <td>16</td>\n",
       "      <td>4000</td>\n",
       "      <td>35</td>\n",
       "      <td>1</td>\n",
       "    </tr>\n",
       "    <tr>\n",
       "      <th>3</th>\n",
       "      <td>2</td>\n",
       "      <td>20</td>\n",
       "      <td>5000</td>\n",
       "      <td>45</td>\n",
       "      <td>1</td>\n",
       "    </tr>\n",
       "    <tr>\n",
       "      <th>4</th>\n",
       "      <td>1</td>\n",
       "      <td>24</td>\n",
       "      <td>6000</td>\n",
       "      <td>77</td>\n",
       "      <td>0</td>\n",
       "    </tr>\n",
       "  </tbody>\n",
       "</table>\n",
       "</div>"
      ],
      "text/plain": [
       "   months_since_last_donation  number_of_donations  total_volume_donated  \\\n",
       "0                           2                   50                 12500   \n",
       "1                           0                   13                  3250   \n",
       "2                           1                   16                  4000   \n",
       "3                           2                   20                  5000   \n",
       "4                           1                   24                  6000   \n",
       "\n",
       "   months_since_first_donation  made_donation_in_march_2007  \n",
       "0                           98                            1  \n",
       "1                           28                            1  \n",
       "2                           35                            1  \n",
       "3                           45                            1  \n",
       "4                           77                            0  "
      ]
     },
     "execution_count": 103,
     "metadata": {},
     "output_type": "execute_result"
    }
   ],
   "source": [
    "donors.head()"
   ]
  },
  {
   "cell_type": "code",
   "execution_count": 104,
   "metadata": {},
   "outputs": [
    {
     "data": {
      "text/plain": [
       "months_since_last_donation     int64\n",
       "number_of_donations            int64\n",
       "total_volume_donated           int64\n",
       "months_since_first_donation    int64\n",
       "made_donation_in_march_2007    int64\n",
       "dtype: object"
      ]
     },
     "execution_count": 104,
     "metadata": {},
     "output_type": "execute_result"
    }
   ],
   "source": [
    "donors.dtypes"
   ]
  },
  {
   "cell_type": "code",
   "execution_count": 105,
   "metadata": {},
   "outputs": [
    {
     "data": {
      "text/plain": [
       "months_since_last_donation     0\n",
       "number_of_donations            0\n",
       "total_volume_donated           0\n",
       "months_since_first_donation    0\n",
       "made_donation_in_march_2007    0\n",
       "dtype: int64"
      ]
     },
     "execution_count": 105,
     "metadata": {},
     "output_type": "execute_result"
    }
   ],
   "source": [
    "donors.isna().sum()"
   ]
  },
  {
   "cell_type": "code",
   "execution_count": 106,
   "metadata": {},
   "outputs": [],
   "source": [
    "target = 'made_donation_in_march_2007'"
   ]
  },
  {
   "cell_type": "code",
   "execution_count": 107,
   "metadata": {},
   "outputs": [
    {
     "data": {
      "text/plain": [
       "((561, 4), (187, 4))"
      ]
     },
     "execution_count": 107,
     "metadata": {},
     "output_type": "execute_result"
    }
   ],
   "source": [
    "X_train = train.drop(columns=target)\n",
    "X_test = test.drop(columns=target)\n",
    "X_train.shape, X_test.shape"
   ]
  },
  {
   "cell_type": "code",
   "execution_count": 108,
   "metadata": {},
   "outputs": [
    {
     "data": {
      "text/plain": [
       "((561,), (187,))"
      ]
     },
     "execution_count": 108,
     "metadata": {},
     "output_type": "execute_result"
    }
   ],
   "source": [
    "y_train = train[target]\n",
    "y_test = test[target]\n",
    "y_train.shape, y_test.shape"
   ]
  },
  {
   "cell_type": "code",
   "execution_count": 109,
   "metadata": {},
   "outputs": [],
   "source": [
    "from sklearn.metrics import accuracy_score\n",
    "from sklearn.linear_model import LogisticRegression\n",
    "log_reg = LogisticRegression()"
   ]
  },
  {
   "cell_type": "code",
   "execution_count": 110,
   "metadata": {},
   "outputs": [
    {
     "data": {
      "text/plain": [
       "LogisticRegression(C=1.0, class_weight=None, dual=False, fit_intercept=True,\n",
       "                   intercept_scaling=1, l1_ratio=None, max_iter=100,\n",
       "                   multi_class='auto', n_jobs=None, penalty='l2',\n",
       "                   random_state=None, solver='lbfgs', tol=0.0001, verbose=0,\n",
       "                   warm_start=False)"
      ]
     },
     "execution_count": 110,
     "metadata": {},
     "output_type": "execute_result"
    }
   ],
   "source": [
    "log_reg.fit(X_train, y_train)"
   ]
  },
  {
   "cell_type": "code",
   "execution_count": 111,
   "metadata": {},
   "outputs": [
    {
     "data": {
      "text/plain": [
       "array([[-8.99407714e-02,  2.06452692e-06,  5.16131730e-04,\n",
       "        -2.22078421e-02]])"
      ]
     },
     "execution_count": 111,
     "metadata": {},
     "output_type": "execute_result"
    }
   ],
   "source": [
    "log_reg.coef_"
   ]
  },
  {
   "cell_type": "markdown",
   "metadata": {
    "colab_type": "text",
    "id": "Ah6EhiRVSusy"
   },
   "source": [
    "## 1.3. Report classification metric: accuracy\n",
    "\n",
    "What is your model's accuracy on the test set?\n",
    "\n",
    "Don't worry if your model doesn't beat the majority class baseline. That's okay!\n",
    "\n",
    "_\"The combination of some data and an aching desire for an answer does not ensure that a reasonable answer can be extracted from a given body of data.\"_ —[John Tukey](https://en.wikiquote.org/wiki/John_Tukey)\n",
    "\n",
    "(Also, if we used recall score instead of accuracy score, then your model would almost certainly beat the baseline. We'll discuss how to choose and interpret evaluation metrics throughout this unit.)\n"
   ]
  },
  {
   "cell_type": "code",
   "execution_count": 112,
   "metadata": {
    "colab": {},
    "colab_type": "code",
    "id": "ZfJ2NFsASt9_"
   },
   "outputs": [
    {
     "name": "stdout",
     "output_type": "stream",
     "text": [
      "Test Set Accuracy Score: 0.7700534759358288\n"
     ]
    }
   ],
   "source": [
    "print('Test Set Accuracy Score:', log_reg.score(X_test, y_test))"
   ]
  },
  {
   "cell_type": "code",
   "execution_count": 113,
   "metadata": {},
   "outputs": [
    {
     "data": {
      "text/plain": [
       "array([-8.99407714e-02,  2.06452692e-06,  5.16131730e-04, -2.22078421e-02])"
      ]
     },
     "execution_count": 113,
     "metadata": {},
     "output_type": "execute_result"
    }
   ],
   "source": [
    "log_reg.coef_[0]"
   ]
  },
  {
   "cell_type": "code",
   "execution_count": 114,
   "metadata": {},
   "outputs": [
    {
     "data": {
      "text/plain": [
       "months_since_last_donation    -0.089941\n",
       "number_of_donations            0.000002\n",
       "total_volume_donated           0.000516\n",
       "months_since_first_donation   -0.022208\n",
       "dtype: float64"
      ]
     },
     "execution_count": 114,
     "metadata": {},
     "output_type": "execute_result"
    }
   ],
   "source": [
    "coefficients = pd.Series(log_reg.coef_[0], X_train.columns)\n",
    "coefficients"
   ]
  },
  {
   "cell_type": "code",
   "execution_count": 115,
   "metadata": {},
   "outputs": [
    {
     "data": {
      "image/png": "[encoded data removed]",
      "text/plain": [
       "<Figure size 1080x360 with 1 Axes>"
      ]
     },
     "metadata": {
      "needs_background": "light"
     },
     "output_type": "display_data"
    }
   ],
   "source": [
    "%matplotlib inline\n",
    "coefficients.sort_values().plot.barh(figsize=(15,5));"
   ]
  },
  {
   "cell_type": "markdown",
   "metadata": {
    "colab_type": "text",
    "id": "xDmZn3ApOM7t"
   },
   "source": [
    "# Part 2, Regression: Predict home prices in Ames, Iowa 🏠\n",
    "\n",
    "You'll use historical housing data. ***There's a data dictionary at the bottom of the notebook.*** \n",
    "\n",
    "Run this code cell to load the dataset:\n",
    "\n",
    "\n",
    "\n"
   ]
  },
  {
   "cell_type": "code",
   "execution_count": 116,
   "metadata": {
    "colab": {},
    "colab_type": "code",
    "id": "7ptoRG1lu7H4"
   },
   "outputs": [],
   "source": [
    "import pandas as pd\n",
    "URL = 'https://drive.google.com/uc?export=download&id=1522WlEW6HFss36roD_Cd9nybqSuiVcCK'\n",
    "homes = pd.read_csv(URL)\n",
    "assert homes.shape == (2904, 47)"
   ]
  },
  {
   "cell_type": "code",
   "execution_count": 117,
   "metadata": {},
   "outputs": [
    {
     "name": "stdout",
     "output_type": "stream",
     "text": [
      "(2904, 47)\n"
     ]
    },
    {
     "data": {
      "text/html": [
       "<div>\n",
       "<style scoped>\n",
       "    .dataframe tbody tr th:only-of-type {\n",
       "        vertical-align: middle;\n",
       "    }\n",
       "\n",
       "    .dataframe tbody tr th {\n",
       "        vertical-align: top;\n",
       "    }\n",
       "\n",
       "    .dataframe thead th {\n",
       "        text-align: right;\n",
       "    }\n",
       "</style>\n",
       "<table border=\"1\" class=\"dataframe\">\n",
       "  <thead>\n",
       "    <tr style=\"text-align: right;\">\n",
       "      <th></th>\n",
       "      <th>1st_Flr_SF</th>\n",
       "      <th>Bedroom_AbvGr</th>\n",
       "      <th>Bldg_Type</th>\n",
       "      <th>Bsmt_Full_Bath</th>\n",
       "      <th>Bsmt_Half_Bath</th>\n",
       "      <th>Central_Air</th>\n",
       "      <th>Condition_1</th>\n",
       "      <th>Condition_2</th>\n",
       "      <th>Electrical</th>\n",
       "      <th>Exter_Cond</th>\n",
       "      <th>...</th>\n",
       "      <th>Roof_Style</th>\n",
       "      <th>SalePrice</th>\n",
       "      <th>Sale_Condition</th>\n",
       "      <th>Sale_Type</th>\n",
       "      <th>Street</th>\n",
       "      <th>TotRms_AbvGrd</th>\n",
       "      <th>Utilities</th>\n",
       "      <th>Year_Built</th>\n",
       "      <th>Year_Remod/Add</th>\n",
       "      <th>Yr_Sold</th>\n",
       "    </tr>\n",
       "  </thead>\n",
       "  <tbody>\n",
       "    <tr>\n",
       "      <th>0</th>\n",
       "      <td>1656</td>\n",
       "      <td>3</td>\n",
       "      <td>1Fam</td>\n",
       "      <td>1.0</td>\n",
       "      <td>0.0</td>\n",
       "      <td>Y</td>\n",
       "      <td>Norm</td>\n",
       "      <td>Norm</td>\n",
       "      <td>SBrkr</td>\n",
       "      <td>TA</td>\n",
       "      <td>...</td>\n",
       "      <td>Hip</td>\n",
       "      <td>215000</td>\n",
       "      <td>Normal</td>\n",
       "      <td>WD</td>\n",
       "      <td>Pave</td>\n",
       "      <td>7</td>\n",
       "      <td>AllPub</td>\n",
       "      <td>1960</td>\n",
       "      <td>1960</td>\n",
       "      <td>2010</td>\n",
       "    </tr>\n",
       "    <tr>\n",
       "      <th>1</th>\n",
       "      <td>896</td>\n",
       "      <td>2</td>\n",
       "      <td>1Fam</td>\n",
       "      <td>0.0</td>\n",
       "      <td>0.0</td>\n",
       "      <td>Y</td>\n",
       "      <td>Feedr</td>\n",
       "      <td>Norm</td>\n",
       "      <td>SBrkr</td>\n",
       "      <td>TA</td>\n",
       "      <td>...</td>\n",
       "      <td>Gable</td>\n",
       "      <td>105000</td>\n",
       "      <td>Normal</td>\n",
       "      <td>WD</td>\n",
       "      <td>Pave</td>\n",
       "      <td>5</td>\n",
       "      <td>AllPub</td>\n",
       "      <td>1961</td>\n",
       "      <td>1961</td>\n",
       "      <td>2010</td>\n",
       "    </tr>\n",
       "    <tr>\n",
       "      <th>2</th>\n",
       "      <td>1329</td>\n",
       "      <td>3</td>\n",
       "      <td>1Fam</td>\n",
       "      <td>0.0</td>\n",
       "      <td>0.0</td>\n",
       "      <td>Y</td>\n",
       "      <td>Norm</td>\n",
       "      <td>Norm</td>\n",
       "      <td>SBrkr</td>\n",
       "      <td>TA</td>\n",
       "      <td>...</td>\n",
       "      <td>Hip</td>\n",
       "      <td>172000</td>\n",
       "      <td>Normal</td>\n",
       "      <td>WD</td>\n",
       "      <td>Pave</td>\n",
       "      <td>6</td>\n",
       "      <td>AllPub</td>\n",
       "      <td>1958</td>\n",
       "      <td>1958</td>\n",
       "      <td>2010</td>\n",
       "    </tr>\n",
       "    <tr>\n",
       "      <th>3</th>\n",
       "      <td>2110</td>\n",
       "      <td>3</td>\n",
       "      <td>1Fam</td>\n",
       "      <td>1.0</td>\n",
       "      <td>0.0</td>\n",
       "      <td>Y</td>\n",
       "      <td>Norm</td>\n",
       "      <td>Norm</td>\n",
       "      <td>SBrkr</td>\n",
       "      <td>TA</td>\n",
       "      <td>...</td>\n",
       "      <td>Hip</td>\n",
       "      <td>244000</td>\n",
       "      <td>Normal</td>\n",
       "      <td>WD</td>\n",
       "      <td>Pave</td>\n",
       "      <td>8</td>\n",
       "      <td>AllPub</td>\n",
       "      <td>1968</td>\n",
       "      <td>1968</td>\n",
       "      <td>2010</td>\n",
       "    </tr>\n",
       "    <tr>\n",
       "      <th>4</th>\n",
       "      <td>928</td>\n",
       "      <td>3</td>\n",
       "      <td>1Fam</td>\n",
       "      <td>0.0</td>\n",
       "      <td>0.0</td>\n",
       "      <td>Y</td>\n",
       "      <td>Norm</td>\n",
       "      <td>Norm</td>\n",
       "      <td>SBrkr</td>\n",
       "      <td>TA</td>\n",
       "      <td>...</td>\n",
       "      <td>Gable</td>\n",
       "      <td>189900</td>\n",
       "      <td>Normal</td>\n",
       "      <td>WD</td>\n",
       "      <td>Pave</td>\n",
       "      <td>6</td>\n",
       "      <td>AllPub</td>\n",
       "      <td>1997</td>\n",
       "      <td>1998</td>\n",
       "      <td>2010</td>\n",
       "    </tr>\n",
       "  </tbody>\n",
       "</table>\n",
       "<p>5 rows × 47 columns</p>\n",
       "</div>"
      ],
      "text/plain": [
       "   1st_Flr_SF  Bedroom_AbvGr Bldg_Type  Bsmt_Full_Bath  Bsmt_Half_Bath  \\\n",
       "0        1656              3      1Fam             1.0             0.0   \n",
       "1         896              2      1Fam             0.0             0.0   \n",
       "2        1329              3      1Fam             0.0             0.0   \n",
       "3        2110              3      1Fam             1.0             0.0   \n",
       "4         928              3      1Fam             0.0             0.0   \n",
       "\n",
       "  Central_Air Condition_1 Condition_2 Electrical Exter_Cond  ... Roof_Style  \\\n",
       "0           Y        Norm        Norm      SBrkr         TA  ...        Hip   \n",
       "1           Y       Feedr        Norm      SBrkr         TA  ...      Gable   \n",
       "2           Y        Norm        Norm      SBrkr         TA  ...        Hip   \n",
       "3           Y        Norm        Norm      SBrkr         TA  ...        Hip   \n",
       "4           Y        Norm        Norm      SBrkr         TA  ...      Gable   \n",
       "\n",
       "  SalePrice Sale_Condition Sale_Type  Street TotRms_AbvGrd  Utilities  \\\n",
       "0    215000         Normal       WD     Pave             7     AllPub   \n",
       "1    105000         Normal       WD     Pave             5     AllPub   \n",
       "2    172000         Normal       WD     Pave             6     AllPub   \n",
       "3    244000         Normal       WD     Pave             8     AllPub   \n",
       "4    189900         Normal       WD     Pave             6     AllPub   \n",
       "\n",
       "   Year_Built Year_Remod/Add Yr_Sold  \n",
       "0        1960           1960    2010  \n",
       "1        1961           1961    2010  \n",
       "2        1958           1958    2010  \n",
       "3        1968           1968    2010  \n",
       "4        1997           1998    2010  \n",
       "\n",
       "[5 rows x 47 columns]"
      ]
     },
     "execution_count": 117,
     "metadata": {},
     "output_type": "execute_result"
    }
   ],
   "source": [
    "print(homes.shape)\n",
    "homes.head()"
   ]
  },
  {
   "cell_type": "code",
   "execution_count": 118,
   "metadata": {},
   "outputs": [
    {
     "data": {
      "text/plain": [
       "1st_Flr_SF          int64\n",
       "Bedroom_AbvGr       int64\n",
       "Bldg_Type          object\n",
       "Bsmt_Full_Bath    float64\n",
       "Bsmt_Half_Bath    float64\n",
       "Central_Air        object\n",
       "Condition_1        object\n",
       "Condition_2        object\n",
       "Electrical         object\n",
       "Exter_Cond         object\n",
       "Exter_Qual         object\n",
       "Exterior_1st       object\n",
       "Exterior_2nd       object\n",
       "Foundation         object\n",
       "Full_Bath           int64\n",
       "Functional         object\n",
       "Gr_Liv_Area         int64\n",
       "Half_Bath           int64\n",
       "Heating            object\n",
       "Heating_QC         object\n",
       "House_Style        object\n",
       "Kitchen_AbvGr       int64\n",
       "Kitchen_Qual       object\n",
       "Land_Contour       object\n",
       "Land_Slope         object\n",
       "Lot_Area            int64\n",
       "Lot_Config         object\n",
       "Lot_Shape          object\n",
       "MS_SubClass         int64\n",
       "MS_Zoning          object\n",
       "Mas_Vnr_Type       object\n",
       "Mo_Sold             int64\n",
       "Neighborhood       object\n",
       "Overall_Cond        int64\n",
       "Overall_Qual        int64\n",
       "Paved_Drive        object\n",
       "Roof_Matl          object\n",
       "Roof_Style         object\n",
       "SalePrice           int64\n",
       "Sale_Condition     object\n",
       "Sale_Type          object\n",
       "Street             object\n",
       "TotRms_AbvGrd       int64\n",
       "Utilities          object\n",
       "Year_Built          int64\n",
       "Year_Remod/Add      int64\n",
       "Yr_Sold             int64\n",
       "dtype: object"
      ]
     },
     "execution_count": 118,
     "metadata": {},
     "output_type": "execute_result"
    }
   ],
   "source": [
    "homes.dtypes"
   ]
  },
  {
   "cell_type": "code",
   "execution_count": 119,
   "metadata": {},
   "outputs": [
    {
     "data": {
      "text/plain": [
       "1st_Flr_SF        0\n",
       "Bedroom_AbvGr     0\n",
       "Bldg_Type         0\n",
       "Bsmt_Full_Bath    0\n",
       "Bsmt_Half_Bath    0\n",
       "Central_Air       0\n",
       "Condition_1       0\n",
       "Condition_2       0\n",
       "Electrical        0\n",
       "Exter_Cond        0\n",
       "Exter_Qual        0\n",
       "Exterior_1st      0\n",
       "Exterior_2nd      0\n",
       "Foundation        0\n",
       "Full_Bath         0\n",
       "Functional        0\n",
       "Gr_Liv_Area       0\n",
       "Half_Bath         0\n",
       "Heating           0\n",
       "Heating_QC        0\n",
       "House_Style       0\n",
       "Kitchen_AbvGr     0\n",
       "Kitchen_Qual      0\n",
       "Land_Contour      0\n",
       "Land_Slope        0\n",
       "Lot_Area          0\n",
       "Lot_Config        0\n",
       "Lot_Shape         0\n",
       "MS_SubClass       0\n",
       "MS_Zoning         0\n",
       "Mas_Vnr_Type      0\n",
       "Mo_Sold           0\n",
       "Neighborhood      0\n",
       "Overall_Cond      0\n",
       "Overall_Qual      0\n",
       "Paved_Drive       0\n",
       "Roof_Matl         0\n",
       "Roof_Style        0\n",
       "SalePrice         0\n",
       "Sale_Condition    0\n",
       "Sale_Type         0\n",
       "Street            0\n",
       "TotRms_AbvGrd     0\n",
       "Utilities         0\n",
       "Year_Built        0\n",
       "Year_Remod/Add    0\n",
       "Yr_Sold           0\n",
       "dtype: int64"
      ]
     },
     "execution_count": 119,
     "metadata": {},
     "output_type": "execute_result"
    }
   ],
   "source": [
    "homes.isna().sum()"
   ]
  },
  {
   "cell_type": "code",
   "execution_count": 120,
   "metadata": {},
   "outputs": [
    {
     "data": {
      "text/plain": [
       "1st_Flr_SF        1077\n",
       "Bedroom_AbvGr        8\n",
       "Bldg_Type            5\n",
       "Bsmt_Full_Bath       4\n",
       "Bsmt_Half_Bath       3\n",
       "Central_Air          2\n",
       "Condition_1          9\n",
       "Condition_2          8\n",
       "Electrical           5\n",
       "Exter_Cond           5\n",
       "Exter_Qual           4\n",
       "Exterior_1st        16\n",
       "Exterior_2nd        17\n",
       "Foundation           6\n",
       "Full_Bath            5\n",
       "Functional           8\n",
       "Gr_Liv_Area       1283\n",
       "Half_Bath            3\n",
       "Heating              6\n",
       "Heating_QC           5\n",
       "House_Style          8\n",
       "Kitchen_AbvGr        4\n",
       "Kitchen_Qual         5\n",
       "Land_Contour         4\n",
       "Land_Slope           3\n",
       "Lot_Area          1942\n",
       "Lot_Config           5\n",
       "Lot_Shape            4\n",
       "MS_SubClass         16\n",
       "MS_Zoning            7\n",
       "Mas_Vnr_Type         5\n",
       "Mo_Sold             12\n",
       "Neighborhood        28\n",
       "Overall_Cond         9\n",
       "Overall_Qual        10\n",
       "Paved_Drive          3\n",
       "Roof_Matl            8\n",
       "Roof_Style           6\n",
       "SalePrice         1019\n",
       "Sale_Condition       6\n",
       "Sale_Type           10\n",
       "Street               2\n",
       "TotRms_AbvGrd       14\n",
       "Utilities            3\n",
       "Year_Built         118\n",
       "Year_Remod/Add      61\n",
       "Yr_Sold              5\n",
       "dtype: int64"
      ]
     },
     "execution_count": 120,
     "metadata": {},
     "output_type": "execute_result"
    }
   ],
   "source": [
    "homes.nunique()"
   ]
  },
  {
   "cell_type": "markdown",
   "metadata": {
    "colab_type": "text",
    "id": "CowG-cgZ5ZrB"
   },
   "source": [
    "## 2.1. Begin with baselines\n",
    "\n",
    "What is the Mean Absolute Error and R^2 score for a mean baseline? (You can get these estimated scores using all your data, before splitting it.)"
   ]
  },
  {
   "cell_type": "code",
   "execution_count": 121,
   "metadata": {
    "colab": {},
    "colab_type": "code",
    "id": "TbahVr-j5ZLs"
   },
   "outputs": [],
   "source": [
    "target = 'SalePrice'"
   ]
  },
  {
   "cell_type": "code",
   "execution_count": 122,
   "metadata": {},
   "outputs": [
    {
     "data": {
      "text/plain": [
       "180383.689738292"
      ]
     },
     "execution_count": 122,
     "metadata": {},
     "output_type": "execute_result"
    }
   ],
   "source": [
    "baseline = homes[target].mean()\n",
    "baseline"
   ]
  },
  {
   "cell_type": "code",
   "execution_count": 123,
   "metadata": {},
   "outputs": [],
   "source": [
    "from sklearn.metrics import mean_absolute_error\n",
    "from sklearn.metrics import r2_score"
   ]
  },
  {
   "cell_type": "code",
   "execution_count": 124,
   "metadata": {},
   "outputs": [
    {
     "name": "stdout",
     "output_type": "stream",
     "text": [
      "Mean Baselines: \n",
      " M.A.E. = $58,149.93 \n",
      " R_Squared = 0.00000\n"
     ]
    }
   ],
   "source": [
    "y_true = homes[target]\n",
    "y_baseline = [baseline] * len(y_true)\n",
    "mae = mean_absolute_error(y_true, y_baseline)\n",
    "r2 = r2_score(y_true, y_baseline)\n",
    "print(f'Mean Baselines: \\n M.A.E. = ${mae:,.2f} \\n R_Squared = {r2:.5f}')"
   ]
  },
  {
   "cell_type": "markdown",
   "metadata": {
    "colab_type": "text",
    "id": "yqeiq1wvyrTq"
   },
   "source": [
    "## 2.2. Do train/validate/test split\n",
    "\n",
    "Train on houses sold in the years 2006 - 2008. (1,920 rows)\n",
    "\n",
    "Validate on house sold in 2009. (644 rows)\n",
    "\n",
    "Test on houses sold in 2010. (340 rows)"
   ]
  },
  {
   "cell_type": "code",
   "execution_count": 125,
   "metadata": {
    "colab": {},
    "colab_type": "code",
    "id": "WKFjWLI3w0P_"
   },
   "outputs": [
    {
     "data": {
      "text/plain": [
       "2007    686\n",
       "2009    644\n",
       "2006    621\n",
       "2008    613\n",
       "2010    340\n",
       "Name: Yr_Sold, dtype: int64"
      ]
     },
     "execution_count": 125,
     "metadata": {},
     "output_type": "execute_result"
    }
   ],
   "source": [
    "homes.Yr_Sold.value_counts()"
   ]
  },
  {
   "cell_type": "code",
   "execution_count": 126,
   "metadata": {},
   "outputs": [
    {
     "data": {
      "text/plain": [
       "((1920, 47), (644, 47), (340, 47))"
      ]
     },
     "execution_count": 126,
     "metadata": {},
     "output_type": "execute_result"
    }
   ],
   "source": [
    "train = homes[homes['Yr_Sold'] <= 2008]\n",
    "val = homes[homes['Yr_Sold'] == 2009]\n",
    "test = homes[homes['Yr_Sold'] == 2010]\n",
    "train.shape, val.shape, test.shape"
   ]
  },
  {
   "cell_type": "markdown",
   "metadata": {
    "colab_type": "text",
    "id": "hk1bYDJy6txq"
   },
   "source": [
    "## 2.3. Arrange data into X features matrix and y target vector\n",
    "\n",
    "Select at least one numeric feature and at least one categorical feature.\n",
    "\n",
    "Otherwise, you may choose whichever features and however many you want."
   ]
  },
  {
   "cell_type": "code",
   "execution_count": 127,
   "metadata": {
    "colab": {},
    "colab_type": "code",
    "id": "JQf9iwzf_uWh"
   },
   "outputs": [
    {
     "data": {
      "text/plain": [
       "((1920, 46), (644, 46), (340, 46))"
      ]
     },
     "execution_count": 127,
     "metadata": {},
     "output_type": "execute_result"
    }
   ],
   "source": [
    "X_train = train.drop(columns=target)\n",
    "X_val = val.drop(columns=target)\n",
    "X_test = test.drop(columns=target)\n",
    "X_train.shape, X_val.shape, X_test.shape"
   ]
  },
  {
   "cell_type": "code",
   "execution_count": 128,
   "metadata": {},
   "outputs": [
    {
     "data": {
      "text/plain": [
       "((1920,), (644,), (340,))"
      ]
     },
     "execution_count": 128,
     "metadata": {},
     "output_type": "execute_result"
    }
   ],
   "source": [
    "y_train = train[target]\n",
    "y_test = test[target]\n",
    "y_val = val[target]\n",
    "y_train.shape, y_val.shape, y_test.shape"
   ]
  },
  {
   "cell_type": "markdown",
   "metadata": {
    "colab_type": "text",
    "id": "zDT-gSl_-Gwh"
   },
   "source": [
    "## 2.4. Do one-hot encoding\n",
    "\n",
    "Encode your categorical feature(s)."
   ]
  },
  {
   "cell_type": "code",
   "execution_count": 129,
   "metadata": {
    "colab": {},
    "colab_type": "code",
    "id": "iqRywy6M7Jcr"
   },
   "outputs": [],
   "source": [
    "import category_encoders as ce\n",
    "encoder = ce.OneHotEncoder(use_cat_names=True)"
   ]
  },
  {
   "cell_type": "code",
   "execution_count": 130,
   "metadata": {},
   "outputs": [
    {
     "data": {
      "text/plain": [
       "((1920, 217), (644, 217), (340, 217))"
      ]
     },
     "execution_count": 130,
     "metadata": {},
     "output_type": "execute_result"
    }
   ],
   "source": [
    "X_train_enc = encoder.fit_transform(X_train)\n",
    "X_val_enc = encoder.transform(X_val)\n",
    "X_test_enc = encoder.transform(X_test)\n",
    "X_train_enc.shape, X_val_enc.shape, X_test_enc.shape"
   ]
  },
  {
   "cell_type": "markdown",
   "metadata": {
    "colab_type": "text",
    "id": "2ZceruUx-Vs-"
   },
   "source": [
    "## 2.5. Use scikit-learn to fit a linear regression or ridge regression model\n",
    "Fit your model."
   ]
  },
  {
   "cell_type": "code",
   "execution_count": 131,
   "metadata": {
    "colab": {},
    "colab_type": "code",
    "id": "Kvy4Z0xv7eJF"
   },
   "outputs": [],
   "source": [
    "from sklearn.linear_model import LinearRegression\n",
    "from sklearn.feature_selection import SelectKBest, f_regression\n",
    "model = LinearRegression()"
   ]
  },
  {
   "cell_type": "code",
   "execution_count": 132,
   "metadata": {},
   "outputs": [
    {
     "name": "stdout",
     "output_type": "stream",
     "text": [
      "1 fetures:\n",
      "MAE = $33,203.13 \n",
      "\n",
      "2 fetures:\n",
      "MAE = $29,409.65 \n",
      "\n",
      "3 fetures:\n",
      "MAE = $26,847.39 \n",
      "\n",
      "4 fetures:\n",
      "MAE = $25,911.16 \n",
      "\n",
      "5 fetures:\n",
      "MAE = $25,928.34 \n",
      "\n",
      "6 fetures:\n",
      "MAE = $24,680.89 \n",
      "\n",
      "7 fetures:\n",
      "MAE = $24,561.21 \n",
      "\n",
      "8 fetures:\n",
      "MAE = $24,455.12 \n",
      "\n",
      "9 fetures:\n",
      "MAE = $24,472.33 \n",
      "\n",
      "10 fetures:\n",
      "MAE = $22,309.80 \n",
      "\n",
      "11 fetures:\n",
      "MAE = $22,151.64 \n",
      "\n",
      "12 fetures:\n",
      "MAE = $21,936.49 \n",
      "\n",
      "13 fetures:\n",
      "MAE = $21,945.64 \n",
      "\n",
      "14 fetures:\n",
      "MAE = $21,853.00 \n",
      "\n",
      "15 fetures:\n",
      "MAE = $21,481.09 \n",
      "\n",
      "16 fetures:\n",
      "MAE = $21,448.40 \n",
      "\n",
      "17 fetures:\n",
      "MAE = $21,352.83 \n",
      "\n",
      "18 fetures:\n",
      "MAE = $21,346.11 \n",
      "\n",
      "19 fetures:\n",
      "MAE = $21,279.87 \n",
      "\n",
      "20 fetures:\n",
      "MAE = $21,306.47 \n",
      "\n",
      "21 fetures:\n",
      "MAE = $21,249.33 \n",
      "\n",
      "22 fetures:\n",
      "MAE = $20,553.71 \n",
      "\n",
      "23 fetures:\n",
      "MAE = $20,286.37 \n",
      "\n",
      "24 fetures:\n",
      "MAE = $20,284.12 \n",
      "\n",
      "25 fetures:\n",
      "MAE = $20,300.31 \n",
      "\n",
      "26 fetures:\n",
      "MAE = $20,300.42 \n",
      "\n",
      "27 fetures:\n",
      "MAE = $20,392.12 \n",
      "\n",
      "28 fetures:\n",
      "MAE = $20,536.37 \n",
      "\n",
      "29 fetures:\n",
      "MAE = $20,371.97 \n",
      "\n",
      "30 fetures:\n",
      "MAE = $20,377.45 \n",
      "\n",
      "31 fetures:\n",
      "MAE = $20,387.36 \n",
      "\n",
      "32 fetures:\n",
      "MAE = $20,413.03 \n",
      "\n",
      "33 fetures:\n",
      "MAE = $19,955.68 \n",
      "\n",
      "34 fetures:\n",
      "MAE = $19,895.00 \n",
      "\n",
      "35 fetures:\n",
      "MAE = $19,920.07 \n",
      "\n",
      "36 fetures:\n",
      "MAE = $19,920.07 \n",
      "\n",
      "37 fetures:\n",
      "MAE = $19,947.14 \n",
      "\n",
      "38 fetures:\n",
      "MAE = $19,487.25 \n",
      "\n",
      "39 fetures:\n",
      "MAE = $19,652.86 \n",
      "\n",
      "40 fetures:\n",
      "MAE = $19,689.87 \n",
      "\n",
      "41 fetures:\n",
      "MAE = $19,621.91 \n",
      "\n",
      "42 fetures:\n",
      "MAE = $19,524.37 \n",
      "\n",
      "43 fetures:\n",
      "MAE = $19,523.74 \n",
      "\n",
      "44 fetures:\n",
      "MAE = $19,502.32 \n",
      "\n",
      "45 fetures:\n",
      "MAE = $19,467.46 \n",
      "\n",
      "46 fetures:\n",
      "MAE = $19,467.18 \n",
      "\n",
      "47 fetures:\n",
      "MAE = $19,492.18 \n",
      "\n",
      "48 fetures:\n",
      "MAE = $19,511.74 \n",
      "\n",
      "49 fetures:\n",
      "MAE = $19,611.12 \n",
      "\n",
      "50 fetures:\n",
      "MAE = $19,478.48 \n",
      "\n",
      "51 fetures:\n",
      "MAE = $19,503.30 \n",
      "\n",
      "52 fetures:\n",
      "MAE = $19,518.14 \n",
      "\n",
      "53 fetures:\n",
      "MAE = $19,548.65 \n",
      "\n",
      "54 fetures:\n",
      "MAE = $19,467.80 \n",
      "\n",
      "55 fetures:\n",
      "MAE = $19,433.92 \n",
      "\n",
      "56 fetures:\n",
      "MAE = $19,431.09 \n",
      "\n",
      "57 fetures:\n",
      "MAE = $19,438.91 \n",
      "\n",
      "58 fetures:\n",
      "MAE = $19,128.44 \n",
      "\n",
      "59 fetures:\n",
      "MAE = $19,353.50 \n",
      "\n",
      "60 fetures:\n",
      "MAE = $19,353.50 \n",
      "\n",
      "61 fetures:\n",
      "MAE = $19,391.73 \n",
      "\n",
      "62 fetures:\n",
      "MAE = $19,487.09 \n",
      "\n",
      "63 fetures:\n",
      "MAE = $19,488.95 \n",
      "\n",
      "64 fetures:\n",
      "MAE = $19,511.65 \n",
      "\n",
      "65 fetures:\n",
      "MAE = $19,512.49 \n",
      "\n",
      "66 fetures:\n",
      "MAE = $19,510.76 \n",
      "\n",
      "67 fetures:\n",
      "MAE = $19,517.81 \n",
      "\n",
      "68 fetures:\n",
      "MAE = $19,507.40 \n",
      "\n",
      "69 fetures:\n",
      "MAE = $19,506.11 \n",
      "\n",
      "70 fetures:\n",
      "MAE = $19,501.23 \n",
      "\n",
      "71 fetures:\n",
      "MAE = $19,338.64 \n",
      "\n",
      "72 fetures:\n",
      "MAE = $19,313.39 \n",
      "\n",
      "73 fetures:\n",
      "MAE = $19,280.80 \n",
      "\n",
      "74 fetures:\n",
      "MAE = $19,155.27 \n",
      "\n",
      "75 fetures:\n",
      "MAE = $18,691.46 \n",
      "\n",
      "76 fetures:\n",
      "MAE = $18,660.73 \n",
      "\n",
      "77 fetures:\n",
      "MAE = $18,517.87 \n",
      "\n",
      "78 fetures:\n",
      "MAE = $18,519.77 \n",
      "\n",
      "79 fetures:\n",
      "MAE = $18,462.04 \n",
      "\n",
      "80 fetures:\n",
      "MAE = $17,996.57 \n",
      "\n",
      "81 fetures:\n",
      "MAE = $18,023.71 \n",
      "\n",
      "82 fetures:\n",
      "MAE = $18,057.80 \n",
      "\n",
      "83 fetures:\n",
      "MAE = $18,057.93 \n",
      "\n",
      "84 fetures:\n",
      "MAE = $18,059.17 \n",
      "\n",
      "85 fetures:\n",
      "MAE = $18,010.60 \n",
      "\n",
      "86 fetures:\n",
      "MAE = $17,952.26 \n",
      "\n",
      "87 fetures:\n",
      "MAE = $17,939.34 \n",
      "\n",
      "88 fetures:\n",
      "MAE = $17,936.44 \n",
      "\n",
      "89 fetures:\n",
      "MAE = $17,991.41 \n",
      "\n",
      "90 fetures:\n",
      "MAE = $17,987.25 \n",
      "\n",
      "91 fetures:\n",
      "MAE = $17,931.55 \n",
      "\n",
      "92 fetures:\n",
      "MAE = $17,945.20 \n",
      "\n",
      "93 fetures:\n",
      "MAE = $17,948.62 \n",
      "\n",
      "94 fetures:\n",
      "MAE = $17,956.91 \n",
      "\n",
      "95 fetures:\n",
      "MAE = $18,004.28 \n",
      "\n",
      "96 fetures:\n",
      "MAE = $18,063.11 \n",
      "\n",
      "97 fetures:\n",
      "MAE = $18,068.46 \n",
      "\n",
      "98 fetures:\n",
      "MAE = $18,073.27 \n",
      "\n",
      "99 fetures:\n",
      "MAE = $18,073.27 \n",
      "\n",
      "100 fetures:\n",
      "MAE = $18,047.47 \n",
      "\n",
      "101 fetures:\n",
      "MAE = $18,346.78 \n",
      "\n",
      "102 fetures:\n",
      "MAE = $18,333.90 \n",
      "\n",
      "103 fetures:\n",
      "MAE = $18,325.32 \n",
      "\n",
      "104 fetures:\n",
      "MAE = $18,325.81 \n",
      "\n",
      "105 fetures:\n",
      "MAE = $18,308.44 \n",
      "\n",
      "106 fetures:\n",
      "MAE = $18,310.33 \n",
      "\n",
      "107 fetures:\n",
      "MAE = $18,372.76 \n",
      "\n",
      "108 fetures:\n",
      "MAE = $18,582.04 \n",
      "\n",
      "109 fetures:\n",
      "MAE = $18,585.85 \n",
      "\n",
      "110 fetures:\n",
      "MAE = $18,590.07 \n",
      "\n",
      "111 fetures:\n",
      "MAE = $18,596.42 \n",
      "\n",
      "112 fetures:\n",
      "MAE = $18,598.38 \n",
      "\n",
      "113 fetures:\n",
      "MAE = $18,586.91 \n",
      "\n",
      "114 fetures:\n",
      "MAE = $18,462.98 \n",
      "\n",
      "115 fetures:\n",
      "MAE = $18,456.67 \n",
      "\n",
      "116 fetures:\n",
      "MAE = $18,452.61 \n",
      "\n",
      "117 fetures:\n",
      "MAE = $18,426.33 \n",
      "\n",
      "118 fetures:\n",
      "MAE = $18,384.24 \n",
      "\n",
      "119 fetures:\n",
      "MAE = $18,346.18 \n",
      "\n",
      "120 fetures:\n",
      "MAE = $18,589.43 \n",
      "\n",
      "121 fetures:\n",
      "MAE = $18,544.77 \n",
      "\n",
      "122 fetures:\n",
      "MAE = $18,485.17 \n",
      "\n",
      "123 fetures:\n",
      "MAE = $18,524.75 \n",
      "\n",
      "124 fetures:\n",
      "MAE = $18,568.35 \n",
      "\n",
      "125 fetures:\n",
      "MAE = $18,576.48 \n",
      "\n",
      "126 fetures:\n",
      "MAE = $18,509.17 \n",
      "\n",
      "127 fetures:\n",
      "MAE = $18,527.31 \n",
      "\n",
      "128 fetures:\n",
      "MAE = $18,527.31 \n",
      "\n",
      "129 fetures:\n",
      "MAE = $18,534.54 \n",
      "\n",
      "130 fetures:\n",
      "MAE = $18,510.89 \n",
      "\n",
      "131 fetures:\n",
      "MAE = $18,572.09 \n",
      "\n",
      "132 fetures:\n",
      "MAE = $18,580.99 \n",
      "\n",
      "133 fetures:\n",
      "MAE = $18,617.15 \n",
      "\n",
      "134 fetures:\n",
      "MAE = $18,621.50 \n",
      "\n",
      "135 fetures:\n",
      "MAE = $18,625.40 \n",
      "\n",
      "136 fetures:\n",
      "MAE = $18,647.34 \n",
      "\n",
      "137 fetures:\n",
      "MAE = $18,648.96 \n",
      "\n",
      "138 fetures:\n",
      "MAE = $18,659.47 \n",
      "\n",
      "139 fetures:\n",
      "MAE = $18,671.22 \n",
      "\n",
      "140 fetures:\n",
      "MAE = $18,673.71 \n",
      "\n",
      "141 fetures:\n",
      "MAE = $18,670.27 \n",
      "\n",
      "142 fetures:\n",
      "MAE = $18,670.58 \n",
      "\n",
      "143 fetures:\n",
      "MAE = $18,670.58 \n",
      "\n",
      "144 fetures:\n",
      "MAE = $18,650.06 \n",
      "\n",
      "145 fetures:\n",
      "MAE = $18,650.68 \n",
      "\n",
      "146 fetures:\n",
      "MAE = $18,635.26 \n",
      "\n",
      "147 fetures:\n",
      "MAE = $18,678.67 \n",
      "\n",
      "148 fetures:\n",
      "MAE = $18,647.49 \n",
      "\n",
      "149 fetures:\n",
      "MAE = $18,647.49 \n",
      "\n",
      "150 fetures:\n",
      "MAE = $18,500.14 \n",
      "\n",
      "151 fetures:\n",
      "MAE = $18,438.56 \n",
      "\n",
      "152 fetures:\n",
      "MAE = $18,453.96 \n",
      "\n",
      "153 fetures:\n",
      "MAE = $18,542.27 \n",
      "\n",
      "154 fetures:\n",
      "MAE = $18,539.40 \n",
      "\n",
      "155 fetures:\n",
      "MAE = $18,581.90 \n",
      "\n",
      "156 fetures:\n",
      "MAE = $18,570.78 \n",
      "\n",
      "157 fetures:\n",
      "MAE = $18,638.80 \n",
      "\n",
      "158 fetures:\n",
      "MAE = $18,640.14 \n",
      "\n",
      "159 fetures:\n",
      "MAE = $18,635.47 \n",
      "\n",
      "160 fetures:\n",
      "MAE = $18,562.56 \n",
      "\n",
      "161 fetures:\n",
      "MAE = $18,562.56 \n",
      "\n",
      "162 fetures:\n",
      "MAE = $18,583.23 \n",
      "\n",
      "163 fetures:\n",
      "MAE = $18,555.02 \n",
      "\n",
      "164 fetures:\n",
      "MAE = $18,556.17 \n",
      "\n",
      "165 fetures:\n",
      "MAE = $18,569.15 \n",
      "\n",
      "166 fetures:\n",
      "MAE = $18,580.66 \n",
      "\n",
      "167 fetures:\n",
      "MAE = $18,608.60 \n",
      "\n",
      "168 fetures:\n",
      "MAE = $18,608.58 \n",
      "\n",
      "169 fetures:\n",
      "MAE = $18,608.58 \n",
      "\n",
      "170 fetures:\n",
      "MAE = $18,628.26 \n",
      "\n",
      "171 fetures:\n",
      "MAE = $357,395.81 \n",
      "\n",
      "172 fetures:\n",
      "MAE = $174,193.89 \n",
      "\n",
      "173 fetures:\n",
      "MAE = $18,620.66 \n",
      "\n",
      "174 fetures:\n",
      "MAE = $18,629.04 \n",
      "\n",
      "175 fetures:\n",
      "MAE = $18,629.30 \n",
      "\n",
      "176 fetures:\n",
      "MAE = $76,072.03 \n",
      "\n",
      "177 fetures:\n",
      "MAE = $18,533.68 \n",
      "\n",
      "178 fetures:\n",
      "MAE = $18,545.79 \n",
      "\n",
      "179 fetures:\n",
      "MAE = $18,590.44 \n",
      "\n",
      "180 fetures:\n",
      "MAE = $18,590.44 \n",
      "\n",
      "181 fetures:\n",
      "MAE = $1,171,045.63 \n",
      "\n",
      "182 fetures:\n",
      "MAE = $23,498.44 \n",
      "\n",
      "183 fetures:\n",
      "MAE = $18,533.70 \n",
      "\n",
      "184 fetures:\n",
      "MAE = $18,551.42 \n",
      "\n",
      "185 fetures:\n",
      "MAE = $18,506.43 \n",
      "\n",
      "186 fetures:\n",
      "MAE = $18,495.69 \n",
      "\n",
      "187 fetures:\n",
      "MAE = $18,494.39 \n",
      "\n",
      "188 fetures:\n",
      "MAE = $18,502.34 \n",
      "\n",
      "189 fetures:\n",
      "MAE = $435,038.87 \n",
      "\n",
      "190 fetures:\n",
      "MAE = $445,809.97 \n",
      "\n",
      "191 fetures:\n",
      "MAE = $18,443.98 \n",
      "\n",
      "192 fetures:\n",
      "MAE = $18,603.11 \n",
      "\n",
      "193 fetures:\n",
      "MAE = $18,603.11 \n",
      "\n",
      "194 fetures:\n",
      "MAE = $18,603.11 \n",
      "\n",
      "195 fetures:\n",
      "MAE = $18,569.02 \n",
      "\n",
      "196 fetures:\n",
      "MAE = $18,561.49 \n",
      "\n",
      "197 fetures:\n",
      "MAE = $18,564.48 \n",
      "\n",
      "198 fetures:\n",
      "MAE = $18,564.48 \n",
      "\n",
      "199 fetures:\n",
      "MAE = $18,565.05 \n",
      "\n",
      "200 fetures:\n",
      "MAE = $18,564.29 \n",
      "\n",
      "201 fetures:\n",
      "MAE = $18,537.68 \n",
      "\n",
      "202 fetures:\n",
      "MAE = $18,537.98 \n",
      "\n",
      "203 fetures:\n",
      "MAE = $18,428.51 \n",
      "\n",
      "204 fetures:\n",
      "MAE = $18,434.81 \n",
      "\n",
      "205 fetures:\n",
      "MAE = $18,434.81 \n",
      "\n",
      "206 fetures:\n",
      "MAE = $1,140,244.61 \n",
      "\n",
      "207 fetures:\n",
      "MAE = $17,908.29 \n",
      "\n",
      "208 fetures:\n",
      "MAE = $17,928.94 \n",
      "\n",
      "209 fetures:\n",
      "MAE = $17,944.31 \n",
      "\n",
      "210 fetures:\n",
      "MAE = $17,942.40 \n",
      "\n",
      "211 fetures:\n",
      "MAE = $17,942.40 \n",
      "\n",
      "212 fetures:\n",
      "MAE = $17,942.40 \n",
      "\n",
      "213 fetures:\n",
      "MAE = $17,942.40 \n",
      "\n",
      "214 fetures:\n",
      "MAE = $17,920.24 \n",
      "\n",
      "215 fetures:\n",
      "MAE = $272,892.54 \n",
      "\n",
      "216 fetures:\n",
      "MAE = $209,652.01 \n",
      "\n",
      "217 fetures:\n",
      "MAE = $428,625.34 \n",
      "\n"
     ]
    }
   ],
   "source": [
    "for k in range(1,len(X_train_enc.columns)+1):\n",
    "  print(f'{k} fetures:')\n",
    "\n",
    "  selector = SelectKBest(score_func=f_regression, k=k)\n",
    "  X_train_select = selector.fit_transform(X_train_enc, y_train)\n",
    "  x_val_select = selector.transform(X_val_enc)\n",
    "\n",
    "  model.fit(X_train_select, y_train)\n",
    "  y_pred = model.predict(x_val_select)\n",
    "  mae = mean_absolute_error(y_val, y_pred)\n",
    "\n",
    "  print(f'MAE = ${mae:,.2f} \\n')"
   ]
  },
  {
   "cell_type": "markdown",
   "metadata": {},
   "source": [
    "## MAE is minimized at $$ 17,931 with the 91 best features. The model does not explode until 176 features, so k=91 seems like a safe model to use."
   ]
  },
  {
   "cell_type": "code",
   "execution_count": 133,
   "metadata": {},
   "outputs": [],
   "source": [
    "from sklearn.linear_model import RidgeCV, Ridge"
   ]
  },
  {
   "cell_type": "code",
   "execution_count": 134,
   "metadata": {},
   "outputs": [],
   "source": [
    "selector = SelectKBest(score_func=f_regression, k=91)\n",
    "X_train_select = selector.fit_transform(X_train_enc, y_train)\n",
    "X_val_select = selector.transform(X_val_enc)"
   ]
  },
  {
   "cell_type": "code",
   "execution_count": 135,
   "metadata": {},
   "outputs": [
    {
     "name": "stdout",
     "output_type": "stream",
     "text": [
      "Ridge Regression, alpha = 0.021\n",
      "Validation MAE: $17,812.71  \n",
      " Validation R_Squared = 0.89343 \n",
      "\n",
      "Ridge Regression, alpha = 0.0215\n",
      "Validation MAE: $17,812.00  \n",
      " Validation R_Squared = 0.89345 \n",
      "\n",
      "Ridge Regression, alpha = 0.022\n",
      "Validation MAE: $17,811.57  \n",
      " Validation R_Squared = 0.89346 \n",
      "\n",
      "Ridge Regression, alpha = 0.0225\n",
      "Validation MAE: $17,811.62  \n",
      " Validation R_Squared = 0.89346 \n",
      "\n",
      "Ridge Regression, alpha = 0.023\n",
      "Validation MAE: $17,811.86  \n",
      " Validation R_Squared = 0.89347 \n",
      "\n"
     ]
    }
   ],
   "source": [
    "for alpha in [0.021, 0.0215, 0.022, 0.0225, 0.023]:\n",
    "  print(f'Ridge Regression, alpha = {alpha}')\n",
    "  model = Ridge(alpha=alpha, normalize=True)\n",
    "  model.fit(X_train_select, y_train)\n",
    "  y_pred = model.predict(X_val_select)\n",
    "\n",
    "  mae = mean_absolute_error(y_val, y_pred)\n",
    "  r2 = r2_score(y_val, y_pred)\n",
    "  print(f'Validation MAE: ${mae:,.2f}  \\n Validation R_Squared = {r2:.5f} \\n')"
   ]
  },
  {
   "cell_type": "markdown",
   "metadata": {},
   "source": [
    "## This Ridge Regression minimizes MAE at around alpha = 0.022 with an MAE = $17,811.57"
   ]
  },
  {
   "cell_type": "markdown",
   "metadata": {
    "colab_type": "text",
    "id": "E9reASgw-i8T"
   },
   "source": [
    "## 2.6. Report validation MAE and $R^2$\n",
    "\n",
    "What is your model's Mean Absolute Error and $R^2$ score on the validation set? (You are not graded on how high or low your validation scores are.)"
   ]
  },
  {
   "cell_type": "code",
   "execution_count": 136,
   "metadata": {
    "colab": {},
    "colab_type": "code",
    "id": "q8GdnL4e7hyK"
   },
   "outputs": [
    {
     "name": "stdout",
     "output_type": "stream",
     "text": [
      "Test MAE = $19,097.75 \n",
      " Test R_Squared = 0.86520\n"
     ]
    }
   ],
   "source": [
    "X_test_select = selector.transform(X_test_enc)\n",
    "\n",
    "model = Ridge(alpha=0.022, normalize=True)\n",
    "model.fit(X_train_select, y_train)\n",
    "y_pred = model.predict(X_test_select)\n",
    "\n",
    "mae = mean_absolute_error(y_test, y_pred)\n",
    "r2 = r2_score(y_test, y_pred)\n",
    "print(f'Test MAE = ${mae:,.2f} \\n Test R_Squared = {r2:.5f}')"
   ]
  },
  {
   "cell_type": "code",
   "execution_count": 137,
   "metadata": {},
   "outputs": [
    {
     "name": "stdout",
     "output_type": "stream",
     "text": [
      "Features selected:\n",
      "1st_Flr_SF\n",
      "Bedroom_AbvGr\n",
      "Bldg_Type_Duplex\n",
      "Bldg_Type_Twnhs\n",
      "Bsmt_Full_Bath\n",
      "Central_Air_Y\n",
      "Central_Air_N\n",
      "Condition_1_Norm\n",
      "Condition_1_Feedr\n",
      "Condition_1_Artery\n",
      "Condition_2_PosA\n",
      "Electrical_SBrkr\n",
      "Electrical_FuseA\n",
      "Electrical_FuseF\n",
      "Exter_Cond_Fa\n",
      "Exter_Qual_Ex\n",
      "Exter_Qual_TA\n",
      "Exter_Qual_Gd\n",
      "Exter_Qual_Fa\n",
      "Exterior_1st_MetalSd\n",
      "Exterior_1st_HdBoard\n",
      "Exterior_1st_VinylSd\n",
      "Exterior_1st_CemntBd\n",
      "Exterior_1st_AsbShng\n",
      "Exterior_1st_Wd Sdng\n",
      "Exterior_2nd_MetalSd\n",
      "Exterior_2nd_VinylSd\n",
      "Exterior_2nd_CmentBd\n",
      "Exterior_2nd_AsbShng\n",
      "Exterior_2nd_Wd Sdng\n",
      "Foundation_CBlock\n",
      "Foundation_PConc\n",
      "Foundation_Slab\n",
      "Foundation_BrkTil\n",
      "Full_Bath\n",
      "Functional_Typ\n",
      "Gr_Liv_Area\n",
      "Half_Bath\n",
      "Heating_QC_Ex\n",
      "Heating_QC_TA\n",
      "Heating_QC_Gd\n",
      "Heating_QC_Fa\n",
      "House_Style_2Story\n",
      "House_Style_1.5Fin\n",
      "Kitchen_AbvGr\n",
      "Kitchen_Qual_TA\n",
      "Kitchen_Qual_Gd\n",
      "Kitchen_Qual_Ex\n",
      "Kitchen_Qual_Fa\n",
      "Land_Contour_HLS\n",
      "Lot_Area\n",
      "Lot_Config_CulDSac\n",
      "Lot_Shape_IR1\n",
      "Lot_Shape_Reg\n",
      "Lot_Shape_IR2\n",
      "MS_Zoning_RL\n",
      "MS_Zoning_RM\n",
      "MS_Zoning_C (all)\n",
      "Mas_Vnr_Type_None\n",
      "Mas_Vnr_Type_BrkFace\n",
      "Mas_Vnr_Type_Stone\n",
      "Neighborhood_NAmes\n",
      "Neighborhood_StoneBr\n",
      "Neighborhood_BrDale\n",
      "Neighborhood_NridgHt\n",
      "Neighborhood_NoRidge\n",
      "Neighborhood_Somerst\n",
      "Neighborhood_Sawyer\n",
      "Neighborhood_BrkSide\n",
      "Neighborhood_OldTown\n",
      "Neighborhood_IDOTRR\n",
      "Neighborhood_Edwards\n",
      "Neighborhood_Timber\n",
      "Neighborhood_MeadowV\n",
      "Overall_Cond\n",
      "Overall_Qual\n",
      "Paved_Drive_Y\n",
      "Paved_Drive_N\n",
      "Roof_Matl_CompShg\n",
      "Roof_Matl_WdShngl\n",
      "Roof_Style_Hip\n",
      "Roof_Style_Gable\n",
      "Sale_Condition_Normal\n",
      "Sale_Condition_Abnorml\n",
      "Sale_Condition_Partial\n",
      "Sale_Type_WD \n",
      "Sale_Type_COD\n",
      "Sale_Type_New\n",
      "TotRms_AbvGrd\n",
      "Year_Built\n",
      "Year_Remod/Add\n",
      "\n",
      " Features excluded:\n",
      "Bldg_Type_1Fam\n",
      "Bldg_Type_TwnhsE\n",
      "Bldg_Type_2fmCon\n",
      "Bsmt_Half_Bath\n",
      "Condition_1_PosN\n",
      "Condition_1_RRAn\n",
      "Condition_1_RRAe\n",
      "Condition_1_RRNe\n",
      "Condition_1_PosA\n",
      "Condition_1_RRNn\n",
      "Condition_2_Norm\n",
      "Condition_2_PosN\n",
      "Condition_2_Artery\n",
      "Condition_2_Feedr\n",
      "Condition_2_RRNn\n",
      "Condition_2_RRAe\n",
      "Condition_2_RRAn\n",
      "Electrical_FuseP\n",
      "Electrical_Mix\n",
      "Exter_Cond_TA\n",
      "Exter_Cond_Gd\n",
      "Exter_Cond_Ex\n",
      "Exter_Cond_Po\n",
      "Exterior_1st_BrkFace\n",
      "Exterior_1st_Plywood\n",
      "Exterior_1st_WdShing\n",
      "Exterior_1st_Stucco\n",
      "Exterior_1st_AsphShn\n",
      "Exterior_1st_PreCast\n",
      "Exterior_1st_Stone\n",
      "Exterior_1st_ImStucc\n",
      "Exterior_1st_BrkComm\n",
      "Exterior_1st_CBlock\n",
      "Exterior_2nd_Plywood\n",
      "Exterior_2nd_HdBoard\n",
      "Exterior_2nd_BrkFace\n",
      "Exterior_2nd_Brk Cmn\n",
      "Exterior_2nd_Wd Shng\n",
      "Exterior_2nd_ImStucc\n",
      "Exterior_2nd_Stucco\n",
      "Exterior_2nd_AsphShn\n",
      "Exterior_2nd_PreCast\n",
      "Exterior_2nd_Other\n",
      "Exterior_2nd_Stone\n",
      "Foundation_Stone\n",
      "Foundation_Wood\n",
      "Functional_Min1\n",
      "Functional_Min2\n",
      "Functional_Maj2\n",
      "Functional_Maj1\n",
      "Functional_Mod\n",
      "Functional_Sal\n",
      "Functional_Sev\n",
      "Heating_GasA\n",
      "Heating_Floor\n",
      "Heating_GasW\n",
      "Heating_OthW\n",
      "Heating_Grav\n",
      "Heating_Wall\n",
      "Heating_QC_Po\n",
      "House_Style_1Story\n",
      "House_Style_SLvl\n",
      "House_Style_2.5Unf\n",
      "House_Style_SFoyer\n",
      "House_Style_1.5Unf\n",
      "House_Style_2.5Fin\n",
      "Land_Contour_Lvl\n",
      "Land_Contour_Bnk\n",
      "Land_Contour_Low\n",
      "Land_Slope_Gtl\n",
      "Land_Slope_Mod\n",
      "Land_Slope_Sev\n",
      "Lot_Config_Corner\n",
      "Lot_Config_Inside\n",
      "Lot_Config_FR2\n",
      "Lot_Config_FR3\n",
      "Lot_Shape_IR3\n",
      "MS_SubClass\n",
      "MS_Zoning_RH\n",
      "MS_Zoning_FV\n",
      "MS_Zoning_A (agr)\n",
      "MS_Zoning_I (all)\n",
      "Mas_Vnr_Type_BrkCmn\n",
      "Mas_Vnr_Type_CBlock\n",
      "Mo_Sold\n",
      "Neighborhood_Gilbert\n",
      "Neighborhood_NWAmes\n",
      "Neighborhood_NPkVill\n",
      "Neighborhood_Blmngtn\n",
      "Neighborhood_SawyerW\n",
      "Neighborhood_Veenker\n",
      "Neighborhood_ClearCr\n",
      "Neighborhood_CollgCr\n",
      "Neighborhood_SWISU\n",
      "Neighborhood_Crawfor\n",
      "Neighborhood_Blueste\n",
      "Neighborhood_Mitchel\n",
      "Neighborhood_Greens\n",
      "Neighborhood_GrnHill\n",
      "Neighborhood_Landmrk\n",
      "Paved_Drive_P\n",
      "Roof_Matl_WdShake\n",
      "Roof_Matl_Tar&Grv\n",
      "Roof_Matl_Membran\n",
      "Roof_Matl_ClyTile\n",
      "Roof_Matl_Roll\n",
      "Roof_Matl_Metal\n",
      "Roof_Style_Mansard\n",
      "Roof_Style_Gambrel\n",
      "Roof_Style_Flat\n",
      "Roof_Style_Shed\n",
      "Sale_Condition_Family\n",
      "Sale_Condition_Alloca\n",
      "Sale_Condition_AdjLand\n",
      "Sale_Type_ConLD\n",
      "Sale_Type_CWD\n",
      "Sale_Type_Con\n",
      "Sale_Type_ConLw\n",
      "Sale_Type_VWD\n",
      "Sale_Type_Oth\n",
      "Sale_Type_ConLI\n",
      "Street_Pave\n",
      "Street_Grvl\n",
      "Utilities_AllPub\n",
      "Utilities_NoSewr\n",
      "Yr_Sold\n"
     ]
    }
   ],
   "source": [
    "selected_mask = selector.get_support()\n",
    "all_names = X_train_enc.columns\n",
    "selected_names = all_names[selected_mask]\n",
    "excluded_names = all_names[~selected_mask]\n",
    "\n",
    "print('Features selected:')\n",
    "for name in selected_names:\n",
    "  print(name)\n",
    "\n",
    "print('\\n Features excluded:')\n",
    "for name in excluded_names:\n",
    "  print(name)"
   ]
  },
  {
   "cell_type": "code",
   "execution_count": 138,
   "metadata": {},
   "outputs": [
    {
     "data": {
      "text/plain": [
       "1st_Flr_SF             13.547342\n",
       "Bedroom_AbvGr        -250.263499\n",
       "Bldg_Type_Duplex    -9910.738739\n",
       "Bldg_Type_Twnhs    -20975.915216\n",
       "Bsmt_Full_Bath      14818.879491\n",
       "                        ...     \n",
       "Sale_Type_COD       -6246.958090\n",
       "Sale_Type_New        1862.320303\n",
       "TotRms_AbvGrd         -83.462268\n",
       "Year_Built            133.043053\n",
       "Year_Remod/Add         14.356059\n",
       "Length: 91, dtype: float64"
      ]
     },
     "execution_count": 138,
     "metadata": {},
     "output_type": "execute_result"
    }
   ],
   "source": [
    "coefficients_aimes = pd.Series(model.coef_, selected_names)\n",
    "coefficients_aimes"
   ]
  },
  {
   "cell_type": "code",
   "execution_count": 139,
   "metadata": {},
   "outputs": [
    {
     "data": {
      "image/png": "[encoded data removed]",
      "text/plain": [
       "<Figure size 1080x2160 with 1 Axes>"
      ]
     },
     "metadata": {
      "needs_background": "light"
     },
     "output_type": "display_data"
    }
   ],
   "source": [
    "%matplotlib inline\n",
    "\n",
    "coefficients_aimes.sort_values().plot.barh(figsize=(15,30));"
   ]
  },
  {
   "cell_type": "code",
   "execution_count": null,
   "metadata": {},
   "outputs": [],
   "source": []
  },
  {
   "cell_type": "markdown",
   "metadata": {
    "colab_type": "text",
    "id": "DidByDsrOa-o"
   },
   "source": [
    "# Stretch Goals, Regression\n",
    "- [x] Make at least 2 visualizations to explore relationships between features and target. You may use any visualization library\n",
    "- [x] Try at least 3 feature combinations. You may select features manually, or automatically\n",
    "- [x] Report validation MAE and $R^2$ for each feature combination you try\n",
    "- [x] Report test MAE and $R^2$ for your final model\n",
    "- [x] Print or plot the coefficients for the features in your model"
   ]
  },
  {
   "cell_type": "code",
   "execution_count": null,
   "metadata": {
    "colab": {},
    "colab_type": "code",
    "id": "xOfSQIf3Y3OV"
   },
   "outputs": [],
   "source": []
  },
  {
   "cell_type": "markdown",
   "metadata": {
    "colab_type": "text",
    "id": "PdkjBN1Dy_-A"
   },
   "source": [
    "# Data Dictionary \n",
    "\n",
    "Here's a description of the data fields:\n",
    "\n",
    "```\n",
    "1st_Flr_SF: First Floor square feet\n",
    "\n",
    "Bedroom_AbvGr: Bedrooms above grade (does NOT include basement bedrooms)\n",
    "\n",
    "Bldg_Type: Type of dwelling\n",
    "\t\t\n",
    "       1Fam\tSingle-family Detached\t\n",
    "       2FmCon\tTwo-family Conversion; originally built as one-family dwelling\n",
    "       Duplx\tDuplex\n",
    "       TwnhsE\tTownhouse End Unit\n",
    "       TwnhsI\tTownhouse Inside Unit\n",
    "       \n",
    "Bsmt_Half_Bath: Basement half bathrooms\n",
    "\n",
    "Bsmt_Full_Bath: Basement full bathrooms\n",
    "\n",
    "Central_Air: Central air conditioning\n",
    "\n",
    "       N\tNo\n",
    "       Y\tYes\n",
    "\t\t\n",
    "Condition_1: Proximity to various conditions\n",
    "\t\n",
    "       Artery\tAdjacent to arterial street\n",
    "       Feedr\tAdjacent to feeder street\t\n",
    "       Norm\tNormal\t\n",
    "       RRNn\tWithin 200' of North-South Railroad\n",
    "       RRAn\tAdjacent to North-South Railroad\n",
    "       PosN\tNear positive off-site feature--park, greenbelt, etc.\n",
    "       PosA\tAdjacent to postive off-site feature\n",
    "       RRNe\tWithin 200' of East-West Railroad\n",
    "       RRAe\tAdjacent to East-West Railroad\n",
    "\t\n",
    "Condition_2: Proximity to various conditions (if more than one is present)\n",
    "\t\t\n",
    "       Artery\tAdjacent to arterial street\n",
    "       Feedr\tAdjacent to feeder street\t\n",
    "       Norm\tNormal\t\n",
    "       RRNn\tWithin 200' of North-South Railroad\n",
    "       RRAn\tAdjacent to North-South Railroad\n",
    "       PosN\tNear positive off-site feature--park, greenbelt, etc.\n",
    "       PosA\tAdjacent to postive off-site feature\n",
    "       RRNe\tWithin 200' of East-West Railroad\n",
    "       RRAe\tAdjacent to East-West Railroad\n",
    "       \n",
    " Electrical: Electrical system\n",
    "\n",
    "       SBrkr\tStandard Circuit Breakers & Romex\n",
    "       FuseA\tFuse Box over 60 AMP and all Romex wiring (Average)\t\n",
    "       FuseF\t60 AMP Fuse Box and mostly Romex wiring (Fair)\n",
    "       FuseP\t60 AMP Fuse Box and mostly knob & tube wiring (poor)\n",
    "       Mix\tMixed\n",
    "       \n",
    " Exter_Cond: Evaluates the present condition of the material on the exterior\n",
    "\t\t\n",
    "       Ex\tExcellent\n",
    "       Gd\tGood\n",
    "       TA\tAverage/Typical\n",
    "       Fa\tFair\n",
    "       Po\tPoor\n",
    " \n",
    " Exter_Qual: Evaluates the quality of the material on the exterior \n",
    "\t\t\n",
    "       Ex\tExcellent\n",
    "       Gd\tGood\n",
    "       TA\tAverage/Typical\n",
    "       Fa\tFair\n",
    "       Po\tPoor\n",
    "\t\t\n",
    "Exterior_1st: Exterior covering on house\n",
    "\n",
    "       AsbShng\tAsbestos Shingles\n",
    "       AsphShn\tAsphalt Shingles\n",
    "       BrkComm\tBrick Common\n",
    "       BrkFace\tBrick Face\n",
    "       CBlock\tCinder Block\n",
    "       CemntBd\tCement Board\n",
    "       HdBoard\tHard Board\n",
    "       ImStucc\tImitation Stucco\n",
    "       MetalSd\tMetal Siding\n",
    "       Other\tOther\n",
    "       Plywood\tPlywood\n",
    "       PreCast\tPreCast\t\n",
    "       Stone\tStone\n",
    "       Stucco\tStucco\n",
    "       VinylSd\tVinyl Siding\n",
    "       Wd Sdng\tWood Siding\n",
    "       WdShing\tWood Shingles\n",
    "\t\n",
    "Exterior_2nd: Exterior covering on house (if more than one material)\n",
    "\n",
    "       AsbShng\tAsbestos Shingles\n",
    "       AsphShn\tAsphalt Shingles\n",
    "       BrkComm\tBrick Common\n",
    "       BrkFace\tBrick Face\n",
    "       CBlock\tCinder Block\n",
    "       CemntBd\tCement Board\n",
    "       HdBoard\tHard Board\n",
    "       ImStucc\tImitation Stucco\n",
    "       MetalSd\tMetal Siding\n",
    "       Other\tOther\n",
    "       Plywood\tPlywood\n",
    "       PreCast\tPreCast\n",
    "       Stone\tStone\n",
    "       Stucco\tStucco\n",
    "       VinylSd\tVinyl Siding\n",
    "       Wd Sdng\tWood Siding\n",
    "       WdShing\tWood Shingles\n",
    "       \n",
    "Foundation: Type of foundation\n",
    "\t\t\n",
    "       BrkTil\tBrick & Tile\n",
    "       CBlock\tCinder Block\n",
    "       PConc\tPoured Contrete\t\n",
    "       Slab\tSlab\n",
    "       Stone\tStone\n",
    "       Wood\tWood\n",
    "\t\t\n",
    "Full_Bath: Full bathrooms above grade\n",
    "\n",
    "Functional: Home functionality (Assume typical unless deductions are warranted)\n",
    "\n",
    "       Typ\tTypical Functionality\n",
    "       Min1\tMinor Deductions 1\n",
    "       Min2\tMinor Deductions 2\n",
    "       Mod\tModerate Deductions\n",
    "       Maj1\tMajor Deductions 1\n",
    "       Maj2\tMajor Deductions 2\n",
    "       Sev\tSeverely Damaged\n",
    "       Sal\tSalvage only\n",
    "\t\t\n",
    "Gr_Liv_Area: Above grade (ground) living area square feet\n",
    "        \n",
    "Half_Bath: Half baths above grade\n",
    "\n",
    "Heating: Type of heating\n",
    "\t\t\n",
    "       Floor\tFloor Furnace\n",
    "       GasA\tGas forced warm air furnace\n",
    "       GasW\tGas hot water or steam heat\n",
    "       Grav\tGravity furnace\t\n",
    "       OthW\tHot water or steam heat other than gas\n",
    "       Wall\tWall furnace\n",
    "\t\t\n",
    "Heating_QC: Heating quality and condition\n",
    "\n",
    "       Ex\tExcellent\n",
    "       Gd\tGood\n",
    "       TA\tAverage/Typical\n",
    "       Fa\tFair\n",
    "       Po\tPoor\n",
    "\n",
    "House_Style: Style of dwelling\n",
    "\t\n",
    "       1Story\tOne story\n",
    "       1.5Fin\tOne and one-half story: 2nd level finished\n",
    "       1.5Unf\tOne and one-half story: 2nd level unfinished\n",
    "       2Story\tTwo story\n",
    "       2.5Fin\tTwo and one-half story: 2nd level finished\n",
    "       2.5Unf\tTwo and one-half story: 2nd level unfinished\n",
    "       SFoyer\tSplit Foyer\n",
    "       SLvl\tSplit Level\n",
    "\n",
    "Kitchen_AbvGr: Kitchens above grade\n",
    "\n",
    "Kitchen_Qual: Kitchen quality\n",
    "\n",
    "       Ex\tExcellent\n",
    "       Gd\tGood\n",
    "       TA\tTypical/Average\n",
    "       Fa\tFair\n",
    "       Po\tPoor\n",
    "\n",
    "LandContour: Flatness of the property\n",
    "\n",
    "       Lvl\tNear Flat/Level\t\n",
    "       Bnk\tBanked - Quick and significant rise from street grade to building\n",
    "       HLS\tHillside - Significant slope from side to side\n",
    "       Low\tDepression\n",
    "\t\t\n",
    "Land_Slope: Slope of property\n",
    "\t\t\n",
    "       Gtl\tGentle slope\n",
    "       Mod\tModerate Slope\t\n",
    "       Sev\tSevere Slope\n",
    "\n",
    "Lot_Area: Lot size in square feet\n",
    "\n",
    "Lot_Config: Lot configuration\n",
    "\n",
    "       Inside\tInside lot\n",
    "       Corner\tCorner lot\n",
    "       CulDSac\tCul-de-sac\n",
    "       FR2\tFrontage on 2 sides of property\n",
    "       FR3\tFrontage on 3 sides of property\n",
    "\n",
    "Lot_Shape: General shape of property\n",
    "\n",
    "       Reg\tRegular\t\n",
    "       IR1\tSlightly irregular\n",
    "       IR2\tModerately Irregular\n",
    "       IR3\tIrregular\n",
    "\n",
    "MS_SubClass: Identifies the type of dwelling involved in the sale.\t\n",
    "\n",
    "        20\t1-STORY 1946 & NEWER ALL STYLES\n",
    "        30\t1-STORY 1945 & OLDER\n",
    "        40\t1-STORY W/FINISHED ATTIC ALL AGES\n",
    "        45\t1-1/2 STORY - UNFINISHED ALL AGES\n",
    "        50\t1-1/2 STORY FINISHED ALL AGES\n",
    "        60\t2-STORY 1946 & NEWER\n",
    "        70\t2-STORY 1945 & OLDER\n",
    "        75\t2-1/2 STORY ALL AGES\n",
    "        80\tSPLIT OR MULTI-LEVEL\n",
    "        85\tSPLIT FOYER\n",
    "        90\tDUPLEX - ALL STYLES AND AGES\n",
    "       120\t1-STORY PUD (Planned Unit Development) - 1946 & NEWER\n",
    "       150\t1-1/2 STORY PUD - ALL AGES\n",
    "       160\t2-STORY PUD - 1946 & NEWER\n",
    "       180\tPUD - MULTILEVEL - INCL SPLIT LEV/FOYER\n",
    "       190\t2 FAMILY CONVERSION - ALL STYLES AND AGES\n",
    "\n",
    "MS_Zoning: Identifies the general zoning classification of the sale.\n",
    "\t\t\n",
    "       A\tAgriculture\n",
    "       C\tCommercial\n",
    "       FV\tFloating Village Residential\n",
    "       I\tIndustrial\n",
    "       RH\tResidential High Density\n",
    "       RL\tResidential Low Density\n",
    "       RP\tResidential Low Density Park \n",
    "       RM\tResidential Medium Density\n",
    "\n",
    "Mas_Vnr_Type: Masonry veneer type\n",
    "\n",
    "       BrkCmn\tBrick Common\n",
    "       BrkFace\tBrick Face\n",
    "       CBlock\tCinder Block\n",
    "       None\tNone\n",
    "       Stone\tStone\n",
    "\n",
    "Mo_Sold: Month Sold (MM)\n",
    "\n",
    "Neighborhood: Physical locations within Ames city limits\n",
    "\n",
    "       Blmngtn\tBloomington Heights\n",
    "       Blueste\tBluestem\n",
    "       BrDale\tBriardale\n",
    "       BrkSide\tBrookside\n",
    "       ClearCr\tClear Creek\n",
    "       CollgCr\tCollege Creek\n",
    "       Crawfor\tCrawford\n",
    "       Edwards\tEdwards\n",
    "       Gilbert\tGilbert\n",
    "       IDOTRR\tIowa DOT and Rail Road\n",
    "       MeadowV\tMeadow Village\n",
    "       Mitchel\tMitchell\n",
    "       Names\tNorth Ames\n",
    "       NoRidge\tNorthridge\n",
    "       NPkVill\tNorthpark Villa\n",
    "       NridgHt\tNorthridge Heights\n",
    "       NWAmes\tNorthwest Ames\n",
    "       OldTown\tOld Town\n",
    "       SWISU\tSouth & West of Iowa State University\n",
    "       Sawyer\tSawyer\n",
    "       SawyerW\tSawyer West\n",
    "       Somerst\tSomerset\n",
    "       StoneBr\tStone Brook\n",
    "       Timber\tTimberland\n",
    "       Veenker\tVeenker\n",
    "\t\t\t\n",
    "Overall_Cond: Rates the overall condition of the house\n",
    "\n",
    "       10\tVery Excellent\n",
    "       9\tExcellent\n",
    "       8\tVery Good\n",
    "       7\tGood\n",
    "       6\tAbove Average\t\n",
    "       5\tAverage\n",
    "       4\tBelow Average\t\n",
    "       3\tFair\n",
    "       2\tPoor\n",
    "       1\tVery Poor\n",
    "\n",
    "Overall_Qual: Rates the overall material and finish of the house\n",
    "\n",
    "       10\tVery Excellent\n",
    "       9\tExcellent\n",
    "       8\tVery Good\n",
    "       7\tGood\n",
    "       6\tAbove Average\n",
    "       5\tAverage\n",
    "       4\tBelow Average\n",
    "       3\tFair\n",
    "       2\tPoor\n",
    "       1\tVery Poor\n",
    "\n",
    "Paved_Drive: Paved driveway\n",
    "\n",
    "       Y\tPaved \n",
    "       P\tPartial Pavement\n",
    "       N\tDirt/Gravel\n",
    "\n",
    "Roof_Matl: Roof material\n",
    "\n",
    "       ClyTile\tClay or Tile\n",
    "       CompShg\tStandard (Composite) Shingle\n",
    "       Membran\tMembrane\n",
    "       Metal\tMetal\n",
    "       Roll\tRoll\n",
    "       Tar&Grv\tGravel & Tar\n",
    "       WdShake\tWood Shakes\n",
    "       WdShngl\tWood Shingles\n",
    "\n",
    "Roof_Style: Type of roof\n",
    "\n",
    "       Flat\tFlat\n",
    "       Gable\tGable\n",
    "       Gambrel\tGabrel (Barn)\n",
    "       Hip\tHip\n",
    "       Mansard\tMansard\n",
    "       Shed\tShed\n",
    "\n",
    "SalePrice: the sales price for each house\n",
    "\n",
    "Sale_Condition: Condition of sale\n",
    "\n",
    "       Normal\tNormal Sale\n",
    "       Abnorml\tAbnormal Sale -  trade, foreclosure, short sale\n",
    "       AdjLand\tAdjoining Land Purchase\n",
    "       Alloca\tAllocation - two linked properties with separate deeds, typically condo with a garage unit\t\n",
    "       Family\tSale between family members\n",
    "       Partial\tHome was not completed when last assessed (associated with New Homes)\n",
    "\n",
    "Sale_Type: Type of sale\n",
    "\t\t\n",
    "       WD \tWarranty Deed - Conventional\n",
    "       CWD\tWarranty Deed - Cash\n",
    "       VWD\tWarranty Deed - VA Loan\n",
    "       New\tHome just constructed and sold\n",
    "       COD\tCourt Officer Deed/Estate\n",
    "       Con\tContract 15% Down payment regular terms\n",
    "       ConLw\tContract Low Down payment and low interest\n",
    "       ConLI\tContract Low Interest\n",
    "       ConLD\tContract Low Down\n",
    "       Oth\tOther\n",
    "\t\n",
    "Street: Type of road access to property\n",
    "\n",
    "       Grvl\tGravel\t\n",
    "       Pave\tPaved\n",
    "       \t\n",
    "TotRms_AbvGrd: Total rooms above grade (does not include bathrooms)\n",
    "\n",
    "Utilities: Type of utilities available\n",
    "\t\t\n",
    "       AllPub\tAll public Utilities (E,G,W,& S)\t\n",
    "       NoSewr\tElectricity, Gas, and Water (Septic Tank)\n",
    "       NoSeWa\tElectricity and Gas Only\n",
    "       ELO\tElectricity only\t\n",
    "\t\n",
    "Year_Built: Original construction date\n",
    "\n",
    "Year_Remod/Add: Remodel date (same as construction date if no remodeling or additions)\n",
    "\t\t\t\t\t\t\n",
    "Yr_Sold: Year Sold (YYYY)\t\n",
    "\n",
    "```"
   ]
  }
 ],
 "metadata": {
  "colab": {
   "collapsed_sections": [],
   "name": "DS8_Sprint_Challenge_5_Regression_Classification.ipynb",
   "provenance": []
  },
  "kernelspec": {
   "display_name": "Python 3",
   "language": "python",
   "name": "python3"
  },
  "language_info": {
   "codemirror_mode": {
    "name": "ipython",
    "version": 3
   },
   "file_extension": ".py",
   "mimetype": "text/x-python",
   "name": "python",
   "nbconvert_exporter": "python",
   "pygments_lexer": "ipython3",
   "version": "3.7.6"
  }
 },
 "nbformat": 4,
 "nbformat_minor": 4
}
